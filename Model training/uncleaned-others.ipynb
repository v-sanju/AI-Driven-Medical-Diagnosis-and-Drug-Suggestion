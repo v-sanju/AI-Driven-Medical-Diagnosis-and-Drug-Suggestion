{
 "cells": [
  {
   "cell_type": "markdown",
   "id": "e5686cb7",
   "metadata": {
    "id": "hDuIDPuOfUUX",
    "papermill": {
     "duration": 0.017876,
     "end_time": "2024-08-21T12:53:16.880692",
     "exception": false,
     "start_time": "2024-08-21T12:53:16.862816",
     "status": "completed"
    },
    "tags": []
   },
   "source": [
    "## Data Loading"
   ]
  },
  {
   "cell_type": "code",
   "execution_count": 1,
   "id": "e822f2e0",
   "metadata": {
    "execution": {
     "iopub.execute_input": "2024-08-21T12:53:16.917934Z",
     "iopub.status.busy": "2024-08-21T12:53:16.917377Z",
     "iopub.status.idle": "2024-08-21T12:53:19.744519Z",
     "shell.execute_reply": "2024-08-21T12:53:19.743038Z"
    },
    "id": "_s7GUSbyxo7i",
    "papermill": {
     "duration": 2.849121,
     "end_time": "2024-08-21T12:53:19.747497",
     "exception": false,
     "start_time": "2024-08-21T12:53:16.898376",
     "status": "completed"
    },
    "tags": []
   },
   "outputs": [],
   "source": [
    "import pandas as pd     # for data preprocessing\n",
    "from sklearn import metrics    # for calculating accuracy\n",
    "\n",
    "# To show all the rows of pandas dataframe\n",
    "pd.set_option(\"display.max_rows\", None)"
   ]
  },
  {
   "cell_type": "code",
   "execution_count": 2,
   "id": "60062335",
   "metadata": {
    "execution": {
     "iopub.execute_input": "2024-08-21T12:53:19.783206Z",
     "iopub.status.busy": "2024-08-21T12:53:19.782459Z",
     "iopub.status.idle": "2024-08-21T12:53:22.057583Z",
     "shell.execute_reply": "2024-08-21T12:53:22.056025Z"
    },
    "id": "UmDGcW810gOF",
    "papermill": {
     "duration": 2.297046,
     "end_time": "2024-08-21T12:53:22.060884",
     "exception": false,
     "start_time": "2024-08-21T12:53:19.763838",
     "status": "completed"
    },
    "tags": []
   },
   "outputs": [],
   "source": [
    "df = pd.read_csv(\"/kaggle/input/medical-feedback/drugsComTrain_raw.tsv\", sep=\"\\t\") # read dataset"
   ]
  },
  {
   "cell_type": "code",
   "execution_count": 3,
   "id": "3f4a3bae",
   "metadata": {
    "execution": {
     "iopub.execute_input": "2024-08-21T12:53:22.098406Z",
     "iopub.status.busy": "2024-08-21T12:53:22.096816Z",
     "iopub.status.idle": "2024-08-21T12:53:22.814570Z",
     "shell.execute_reply": "2024-08-21T12:53:22.813308Z"
    },
    "id": "7wqJzOrxVIwV",
    "papermill": {
     "duration": 0.740522,
     "end_time": "2024-08-21T12:53:22.818167",
     "exception": false,
     "start_time": "2024-08-21T12:53:22.077645",
     "status": "completed"
    },
    "tags": []
   },
   "outputs": [],
   "source": [
    "df_test = pd.read_csv(\"/kaggle/input/medical-feedback/drugsComTest_raw.tsv\", sep=\"\\t\") # read dataset"
   ]
  },
  {
   "cell_type": "code",
   "execution_count": 4,
   "id": "2c0388f9",
   "metadata": {
    "execution": {
     "iopub.execute_input": "2024-08-21T12:53:22.855910Z",
     "iopub.status.busy": "2024-08-21T12:53:22.855431Z",
     "iopub.status.idle": "2024-08-21T12:53:22.889959Z",
     "shell.execute_reply": "2024-08-21T12:53:22.888486Z"
    },
    "id": "XNJe4Tev0j9_",
    "outputId": "dfd8dce8-88e3-4bab-dab8-4349c1c22c65",
    "papermill": {
     "duration": 0.056313,
     "end_time": "2024-08-21T12:53:22.892682",
     "exception": false,
     "start_time": "2024-08-21T12:53:22.836369",
     "status": "completed"
    },
    "tags": []
   },
   "outputs": [
    {
     "data": {
      "text/html": [
       "<div>\n",
       "<style scoped>\n",
       "    .dataframe tbody tr th:only-of-type {\n",
       "        vertical-align: middle;\n",
       "    }\n",
       "\n",
       "    .dataframe tbody tr th {\n",
       "        vertical-align: top;\n",
       "    }\n",
       "\n",
       "    .dataframe thead th {\n",
       "        text-align: right;\n",
       "    }\n",
       "</style>\n",
       "<table border=\"1\" class=\"dataframe\">\n",
       "  <thead>\n",
       "    <tr style=\"text-align: right;\">\n",
       "      <th></th>\n",
       "      <th>Unnamed: 0</th>\n",
       "      <th>drugName</th>\n",
       "      <th>condition</th>\n",
       "      <th>review</th>\n",
       "      <th>rating</th>\n",
       "      <th>date</th>\n",
       "      <th>usefulCount</th>\n",
       "    </tr>\n",
       "  </thead>\n",
       "  <tbody>\n",
       "    <tr>\n",
       "      <th>0</th>\n",
       "      <td>206461</td>\n",
       "      <td>Valsartan</td>\n",
       "      <td>Left Ventricular Dysfunction</td>\n",
       "      <td>\"It has no side effect, I take it in combinati...</td>\n",
       "      <td>9.0</td>\n",
       "      <td>May 20, 2012</td>\n",
       "      <td>27</td>\n",
       "    </tr>\n",
       "    <tr>\n",
       "      <th>1</th>\n",
       "      <td>95260</td>\n",
       "      <td>Guanfacine</td>\n",
       "      <td>ADHD</td>\n",
       "      <td>\"My son is halfway through his fourth week of ...</td>\n",
       "      <td>8.0</td>\n",
       "      <td>April 27, 2010</td>\n",
       "      <td>192</td>\n",
       "    </tr>\n",
       "    <tr>\n",
       "      <th>2</th>\n",
       "      <td>92703</td>\n",
       "      <td>Lybrel</td>\n",
       "      <td>Birth Control</td>\n",
       "      <td>\"I used to take another oral contraceptive, wh...</td>\n",
       "      <td>5.0</td>\n",
       "      <td>December 14, 2009</td>\n",
       "      <td>17</td>\n",
       "    </tr>\n",
       "    <tr>\n",
       "      <th>3</th>\n",
       "      <td>138000</td>\n",
       "      <td>Ortho Evra</td>\n",
       "      <td>Birth Control</td>\n",
       "      <td>\"This is my first time using any form of birth...</td>\n",
       "      <td>8.0</td>\n",
       "      <td>November 3, 2015</td>\n",
       "      <td>10</td>\n",
       "    </tr>\n",
       "    <tr>\n",
       "      <th>4</th>\n",
       "      <td>35696</td>\n",
       "      <td>Buprenorphine / naloxone</td>\n",
       "      <td>Opiate Dependence</td>\n",
       "      <td>\"Suboxone has completely turned my life around...</td>\n",
       "      <td>9.0</td>\n",
       "      <td>November 27, 2016</td>\n",
       "      <td>37</td>\n",
       "    </tr>\n",
       "  </tbody>\n",
       "</table>\n",
       "</div>"
      ],
      "text/plain": [
       "   Unnamed: 0                  drugName                     condition  \\\n",
       "0      206461                 Valsartan  Left Ventricular Dysfunction   \n",
       "1       95260                Guanfacine                          ADHD   \n",
       "2       92703                    Lybrel                 Birth Control   \n",
       "3      138000                Ortho Evra                 Birth Control   \n",
       "4       35696  Buprenorphine / naloxone             Opiate Dependence   \n",
       "\n",
       "                                              review  rating  \\\n",
       "0  \"It has no side effect, I take it in combinati...     9.0   \n",
       "1  \"My son is halfway through his fourth week of ...     8.0   \n",
       "2  \"I used to take another oral contraceptive, wh...     5.0   \n",
       "3  \"This is my first time using any form of birth...     8.0   \n",
       "4  \"Suboxone has completely turned my life around...     9.0   \n",
       "\n",
       "                date  usefulCount  \n",
       "0       May 20, 2012           27  \n",
       "1     April 27, 2010          192  \n",
       "2  December 14, 2009           17  \n",
       "3   November 3, 2015           10  \n",
       "4  November 27, 2016           37  "
      ]
     },
     "execution_count": 4,
     "metadata": {},
     "output_type": "execute_result"
    }
   ],
   "source": [
    "df.head()"
   ]
  },
  {
   "cell_type": "code",
   "execution_count": 5,
   "id": "ba43ba58",
   "metadata": {
    "execution": {
     "iopub.execute_input": "2024-08-21T12:53:22.930579Z",
     "iopub.status.busy": "2024-08-21T12:53:22.930155Z",
     "iopub.status.idle": "2024-08-21T12:53:22.948234Z",
     "shell.execute_reply": "2024-08-21T12:53:22.946929Z"
    },
    "id": "TNU4Ny0kVO9d",
    "outputId": "8e915b9d-5b86-4f0d-c043-352d8ee5ac35",
    "papermill": {
     "duration": 0.040028,
     "end_time": "2024-08-21T12:53:22.951188",
     "exception": false,
     "start_time": "2024-08-21T12:53:22.911160",
     "status": "completed"
    },
    "tags": []
   },
   "outputs": [
    {
     "data": {
      "text/html": [
       "<div>\n",
       "<style scoped>\n",
       "    .dataframe tbody tr th:only-of-type {\n",
       "        vertical-align: middle;\n",
       "    }\n",
       "\n",
       "    .dataframe tbody tr th {\n",
       "        vertical-align: top;\n",
       "    }\n",
       "\n",
       "    .dataframe thead th {\n",
       "        text-align: right;\n",
       "    }\n",
       "</style>\n",
       "<table border=\"1\" class=\"dataframe\">\n",
       "  <thead>\n",
       "    <tr style=\"text-align: right;\">\n",
       "      <th></th>\n",
       "      <th>Unnamed: 0</th>\n",
       "      <th>drugName</th>\n",
       "      <th>condition</th>\n",
       "      <th>review</th>\n",
       "      <th>rating</th>\n",
       "      <th>date</th>\n",
       "      <th>usefulCount</th>\n",
       "    </tr>\n",
       "  </thead>\n",
       "  <tbody>\n",
       "    <tr>\n",
       "      <th>0</th>\n",
       "      <td>163740</td>\n",
       "      <td>Mirtazapine</td>\n",
       "      <td>Depression</td>\n",
       "      <td>\"I&amp;#039;ve tried a few antidepressants over th...</td>\n",
       "      <td>10.0</td>\n",
       "      <td>February 28, 2012</td>\n",
       "      <td>22</td>\n",
       "    </tr>\n",
       "    <tr>\n",
       "      <th>1</th>\n",
       "      <td>206473</td>\n",
       "      <td>Mesalamine</td>\n",
       "      <td>Crohn's Disease, Maintenance</td>\n",
       "      <td>\"My son has Crohn&amp;#039;s disease and has done ...</td>\n",
       "      <td>8.0</td>\n",
       "      <td>May 17, 2009</td>\n",
       "      <td>17</td>\n",
       "    </tr>\n",
       "    <tr>\n",
       "      <th>2</th>\n",
       "      <td>159672</td>\n",
       "      <td>Bactrim</td>\n",
       "      <td>Urinary Tract Infection</td>\n",
       "      <td>\"Quick reduction of symptoms\"</td>\n",
       "      <td>9.0</td>\n",
       "      <td>September 29, 2017</td>\n",
       "      <td>3</td>\n",
       "    </tr>\n",
       "    <tr>\n",
       "      <th>3</th>\n",
       "      <td>39293</td>\n",
       "      <td>Contrave</td>\n",
       "      <td>Weight Loss</td>\n",
       "      <td>\"Contrave combines drugs that were used for al...</td>\n",
       "      <td>9.0</td>\n",
       "      <td>March 5, 2017</td>\n",
       "      <td>35</td>\n",
       "    </tr>\n",
       "    <tr>\n",
       "      <th>4</th>\n",
       "      <td>97768</td>\n",
       "      <td>Cyclafem 1 / 35</td>\n",
       "      <td>Birth Control</td>\n",
       "      <td>\"I have been on this birth control for one cyc...</td>\n",
       "      <td>9.0</td>\n",
       "      <td>October 22, 2015</td>\n",
       "      <td>4</td>\n",
       "    </tr>\n",
       "  </tbody>\n",
       "</table>\n",
       "</div>"
      ],
      "text/plain": [
       "   Unnamed: 0         drugName                     condition  \\\n",
       "0      163740      Mirtazapine                    Depression   \n",
       "1      206473       Mesalamine  Crohn's Disease, Maintenance   \n",
       "2      159672          Bactrim       Urinary Tract Infection   \n",
       "3       39293         Contrave                   Weight Loss   \n",
       "4       97768  Cyclafem 1 / 35                 Birth Control   \n",
       "\n",
       "                                              review  rating  \\\n",
       "0  \"I&#039;ve tried a few antidepressants over th...    10.0   \n",
       "1  \"My son has Crohn&#039;s disease and has done ...     8.0   \n",
       "2                      \"Quick reduction of symptoms\"     9.0   \n",
       "3  \"Contrave combines drugs that were used for al...     9.0   \n",
       "4  \"I have been on this birth control for one cyc...     9.0   \n",
       "\n",
       "                 date  usefulCount  \n",
       "0   February 28, 2012           22  \n",
       "1        May 17, 2009           17  \n",
       "2  September 29, 2017            3  \n",
       "3       March 5, 2017           35  \n",
       "4    October 22, 2015            4  "
      ]
     },
     "execution_count": 5,
     "metadata": {},
     "output_type": "execute_result"
    }
   ],
   "source": [
    "df_test.head()"
   ]
  },
  {
   "cell_type": "code",
   "execution_count": 6,
   "id": "dae2efac",
   "metadata": {
    "execution": {
     "iopub.execute_input": "2024-08-21T12:53:22.988638Z",
     "iopub.status.busy": "2024-08-21T12:53:22.988208Z",
     "iopub.status.idle": "2024-08-21T12:53:22.996933Z",
     "shell.execute_reply": "2024-08-21T12:53:22.995691Z"
    },
    "id": "3luboVZt0o58",
    "outputId": "aefca221-9330-4924-b1ae-1940e5552164",
    "papermill": {
     "duration": 0.031323,
     "end_time": "2024-08-21T12:53:22.999926",
     "exception": false,
     "start_time": "2024-08-21T12:53:22.968603",
     "status": "completed"
    },
    "tags": []
   },
   "outputs": [
    {
     "data": {
      "text/plain": [
       "'\"It has no side effect, I take it in combination of Bystolic 5 Mg and Fish Oil\"'"
      ]
     },
     "execution_count": 6,
     "metadata": {},
     "output_type": "execute_result"
    }
   ],
   "source": [
    "df.head()[\"review\"].iloc[0]"
   ]
  },
  {
   "cell_type": "code",
   "execution_count": 7,
   "id": "c7443e88",
   "metadata": {
    "execution": {
     "iopub.execute_input": "2024-08-21T12:53:23.036597Z",
     "iopub.status.busy": "2024-08-21T12:53:23.036110Z",
     "iopub.status.idle": "2024-08-21T12:53:23.043884Z",
     "shell.execute_reply": "2024-08-21T12:53:23.042294Z"
    },
    "id": "T4vkRT5l0rRt",
    "outputId": "66c318fa-5122-4589-c258-8058058789d1",
    "papermill": {
     "duration": 0.029414,
     "end_time": "2024-08-21T12:53:23.046836",
     "exception": false,
     "start_time": "2024-08-21T12:53:23.017422",
     "status": "completed"
    },
    "tags": []
   },
   "outputs": [
    {
     "name": "stdout",
     "output_type": "stream",
     "text": [
      "161297\n",
      "(161297, 7)\n",
      "53766\n",
      "(53766, 7)\n"
     ]
    }
   ],
   "source": [
    "num_rows = df.shape[0]\n",
    "print(num_rows)\n",
    "print(df.shape)\n",
    "\n",
    "num_rows = df_test.shape[0]\n",
    "print(num_rows)\n",
    "print(df_test.shape)"
   ]
  },
  {
   "cell_type": "code",
   "execution_count": 8,
   "id": "ebfd8359",
   "metadata": {
    "execution": {
     "iopub.execute_input": "2024-08-21T12:53:23.085506Z",
     "iopub.status.busy": "2024-08-21T12:53:23.084981Z",
     "iopub.status.idle": "2024-08-21T12:53:23.127794Z",
     "shell.execute_reply": "2024-08-21T12:53:23.125985Z"
    },
    "id": "m9Ls-lM30t3K",
    "outputId": "70976e06-d049-4afd-9bb3-4131cbb648e4",
    "papermill": {
     "duration": 0.066635,
     "end_time": "2024-08-21T12:53:23.131060",
     "exception": false,
     "start_time": "2024-08-21T12:53:23.064425",
     "status": "completed"
    },
    "tags": []
   },
   "outputs": [
    {
     "data": {
      "text/plain": [
       "condition\n",
       "Birth Control                  28788\n",
       "Depression                      9069\n",
       "Pain                            6145\n",
       "Anxiety                         5904\n",
       "Acne                            5588\n",
       "Bipolar Disorde                 4224\n",
       "Insomnia                        3673\n",
       "Weight Loss                     3609\n",
       "Obesity                         3568\n",
       "ADHD                            3383\n",
       "Diabetes, Type 2                2554\n",
       "Emergency Contraception         2463\n",
       "High Blood Pressure             2321\n",
       "Vaginal Yeast Infection         2274\n",
       "Abnormal Uterine Bleeding       2096\n",
       "Bowel Preparation               1859\n",
       "ibromyalgia                     1791\n",
       "Smoking Cessation               1780\n",
       "Migraine                        1694\n",
       "Anxiety and Stress              1663\n",
       "Major Depressive Disorde        1607\n",
       "Constipation                    1595\n",
       "Panic Disorde                   1463\n",
       "Chronic Pain                    1455\n",
       "Migraine Prevention             1413\n",
       "Urinary Tract Infection         1316\n",
       "Muscle Spasm                    1244\n",
       "Osteoarthritis                  1239\n",
       "Generalized Anxiety Disorde     1164\n",
       "Erectile Dysfunction            1086\n",
       "Opiate Dependence               1079\n",
       "Irritable Bowel Syndrome        1014\n",
       "Rheumatoid Arthritis             995\n",
       "Allergic Rhinitis                973\n",
       "Bacterial Infection              945\n",
       "Cough                            927\n",
       "Sinusitis                        835\n",
       "Nausea/Vomiting                  747\n",
       "GERD                             722\n",
       "Multiple Sclerosis               698\n",
       "Name: count, dtype: int64"
      ]
     },
     "execution_count": 8,
     "metadata": {},
     "output_type": "execute_result"
    }
   ],
   "source": [
    "df.condition.value_counts()[:40]"
   ]
  },
  {
   "cell_type": "code",
   "execution_count": 9,
   "id": "8d30ae62",
   "metadata": {
    "execution": {
     "iopub.execute_input": "2024-08-21T12:53:23.168396Z",
     "iopub.status.busy": "2024-08-21T12:53:23.167944Z",
     "iopub.status.idle": "2024-08-21T12:53:23.177062Z",
     "shell.execute_reply": "2024-08-21T12:53:23.175140Z"
    },
    "id": "GijDCWjX0v84",
    "papermill": {
     "duration": 0.031428,
     "end_time": "2024-08-21T12:53:23.180042",
     "exception": false,
     "start_time": "2024-08-21T12:53:23.148614",
     "status": "completed"
    },
    "tags": []
   },
   "outputs": [],
   "source": [
    "medical_conditions = ['Birth Control',\n",
    " 'Depression',\n",
    " 'Pain',\n",
    " 'Anxiety',\n",
    " 'Acne',\n",
    " 'Bipolar Disorde',\n",
    " 'Insomnia',\n",
    " 'Weight Loss',\n",
    " 'Obesity',\n",
    " 'ADHD',\n",
    " 'Diabetes, Type 2',\n",
    " 'Emergency Contraception',\n",
    " 'High Blood Pressure',\n",
    " 'Vaginal Yeast Infection',\n",
    " 'Abnormal Uterine Bleeding',\n",
    " 'Bowel Preparation',\n",
    " 'ibromyalgia',\n",
    " 'Smoking Cessation',\n",
    " 'Migraine',\n",
    " 'Anxiety and Stress',\n",
    "'Major Depressive Disorde',\n",
    "'Constipation',\n",
    "'Panic Disorde',\n",
    "'Chronic Pain',\n",
    "'Migraine Prevention',\n",
    "'Urinary Tract Infection',\n",
    "'Muscle Spasm',\n",
    "'Osteoarthritis',\n",
    "'Generalized Anxiety Disorde',\n",
    "'Erectile Dysfunction',\n",
    "'Opiate Dependence',\n",
    "'Irritable Bowel Syndrome',\n",
    "'Rheumatoid Arthritis',\n",
    "'Allergic Rhinitis',\n",
    "'Bacterial Infection',\n",
    "'Cough',\n",
    "'Sinusitis',\n",
    "'Nausea/Vomiting',\n",
    "'GERD',\n",
    "'Multiple Sclerosis']"
   ]
  },
  {
   "cell_type": "code",
   "execution_count": 10,
   "id": "2430300d",
   "metadata": {
    "execution": {
     "iopub.execute_input": "2024-08-21T12:53:23.218630Z",
     "iopub.status.busy": "2024-08-21T12:53:23.218096Z",
     "iopub.status.idle": "2024-08-21T12:53:23.258520Z",
     "shell.execute_reply": "2024-08-21T12:53:23.257095Z"
    },
    "id": "3-d2ExsW1iWC",
    "papermill": {
     "duration": 0.063419,
     "end_time": "2024-08-21T12:53:23.261557",
     "exception": false,
     "start_time": "2024-08-21T12:53:23.198138",
     "status": "completed"
    },
    "tags": []
   },
   "outputs": [],
   "source": [
    "df_train = df[df[\"condition\"].isin(medical_conditions)]"
   ]
  },
  {
   "cell_type": "code",
   "execution_count": 11,
   "id": "f478b2c9",
   "metadata": {
    "execution": {
     "iopub.execute_input": "2024-08-21T12:53:23.300927Z",
     "iopub.status.busy": "2024-08-21T12:53:23.300502Z",
     "iopub.status.idle": "2024-08-21T12:53:23.316689Z",
     "shell.execute_reply": "2024-08-21T12:53:23.315081Z"
    },
    "id": "RSJfGba9Vnep",
    "papermill": {
     "duration": 0.040179,
     "end_time": "2024-08-21T12:53:23.320115",
     "exception": false,
     "start_time": "2024-08-21T12:53:23.279936",
     "status": "completed"
    },
    "tags": []
   },
   "outputs": [],
   "source": [
    "df_test_data = df_test[df_test[\"condition\"].isin(medical_conditions)]"
   ]
  },
  {
   "cell_type": "code",
   "execution_count": 12,
   "id": "835bc298",
   "metadata": {
    "execution": {
     "iopub.execute_input": "2024-08-21T12:53:23.360884Z",
     "iopub.status.busy": "2024-08-21T12:53:23.360404Z",
     "iopub.status.idle": "2024-08-21T12:53:23.378872Z",
     "shell.execute_reply": "2024-08-21T12:53:23.377562Z"
    },
    "id": "bNPtIlJW1l1w",
    "outputId": "616fd57f-fd95-46f7-b614-b22fc9c1b760",
    "papermill": {
     "duration": 0.042373,
     "end_time": "2024-08-21T12:53:23.381803",
     "exception": false,
     "start_time": "2024-08-21T12:53:23.339430",
     "status": "completed"
    },
    "tags": []
   },
   "outputs": [
    {
     "data": {
      "text/html": [
       "<div>\n",
       "<style scoped>\n",
       "    .dataframe tbody tr th:only-of-type {\n",
       "        vertical-align: middle;\n",
       "    }\n",
       "\n",
       "    .dataframe tbody tr th {\n",
       "        vertical-align: top;\n",
       "    }\n",
       "\n",
       "    .dataframe thead th {\n",
       "        text-align: right;\n",
       "    }\n",
       "</style>\n",
       "<table border=\"1\" class=\"dataframe\">\n",
       "  <thead>\n",
       "    <tr style=\"text-align: right;\">\n",
       "      <th></th>\n",
       "      <th>Unnamed: 0</th>\n",
       "      <th>drugName</th>\n",
       "      <th>condition</th>\n",
       "      <th>review</th>\n",
       "      <th>rating</th>\n",
       "      <th>date</th>\n",
       "      <th>usefulCount</th>\n",
       "    </tr>\n",
       "  </thead>\n",
       "  <tbody>\n",
       "    <tr>\n",
       "      <th>1</th>\n",
       "      <td>95260</td>\n",
       "      <td>Guanfacine</td>\n",
       "      <td>ADHD</td>\n",
       "      <td>\"My son is halfway through his fourth week of ...</td>\n",
       "      <td>8.0</td>\n",
       "      <td>April 27, 2010</td>\n",
       "      <td>192</td>\n",
       "    </tr>\n",
       "    <tr>\n",
       "      <th>2</th>\n",
       "      <td>92703</td>\n",
       "      <td>Lybrel</td>\n",
       "      <td>Birth Control</td>\n",
       "      <td>\"I used to take another oral contraceptive, wh...</td>\n",
       "      <td>5.0</td>\n",
       "      <td>December 14, 2009</td>\n",
       "      <td>17</td>\n",
       "    </tr>\n",
       "    <tr>\n",
       "      <th>3</th>\n",
       "      <td>138000</td>\n",
       "      <td>Ortho Evra</td>\n",
       "      <td>Birth Control</td>\n",
       "      <td>\"This is my first time using any form of birth...</td>\n",
       "      <td>8.0</td>\n",
       "      <td>November 3, 2015</td>\n",
       "      <td>10</td>\n",
       "    </tr>\n",
       "    <tr>\n",
       "      <th>4</th>\n",
       "      <td>35696</td>\n",
       "      <td>Buprenorphine / naloxone</td>\n",
       "      <td>Opiate Dependence</td>\n",
       "      <td>\"Suboxone has completely turned my life around...</td>\n",
       "      <td>9.0</td>\n",
       "      <td>November 27, 2016</td>\n",
       "      <td>37</td>\n",
       "    </tr>\n",
       "    <tr>\n",
       "      <th>6</th>\n",
       "      <td>165907</td>\n",
       "      <td>Levonorgestrel</td>\n",
       "      <td>Emergency Contraception</td>\n",
       "      <td>\"He pulled out, but he cummed a bit in me. I t...</td>\n",
       "      <td>1.0</td>\n",
       "      <td>March 7, 2017</td>\n",
       "      <td>5</td>\n",
       "    </tr>\n",
       "  </tbody>\n",
       "</table>\n",
       "</div>"
      ],
      "text/plain": [
       "   Unnamed: 0                  drugName                condition  \\\n",
       "1       95260                Guanfacine                     ADHD   \n",
       "2       92703                    Lybrel            Birth Control   \n",
       "3      138000                Ortho Evra            Birth Control   \n",
       "4       35696  Buprenorphine / naloxone        Opiate Dependence   \n",
       "6      165907            Levonorgestrel  Emergency Contraception   \n",
       "\n",
       "                                              review  rating  \\\n",
       "1  \"My son is halfway through his fourth week of ...     8.0   \n",
       "2  \"I used to take another oral contraceptive, wh...     5.0   \n",
       "3  \"This is my first time using any form of birth...     8.0   \n",
       "4  \"Suboxone has completely turned my life around...     9.0   \n",
       "6  \"He pulled out, but he cummed a bit in me. I t...     1.0   \n",
       "\n",
       "                date  usefulCount  \n",
       "1     April 27, 2010          192  \n",
       "2  December 14, 2009           17  \n",
       "3   November 3, 2015           10  \n",
       "4  November 27, 2016           37  \n",
       "6      March 7, 2017            5  "
      ]
     },
     "execution_count": 12,
     "metadata": {},
     "output_type": "execute_result"
    }
   ],
   "source": [
    "df_train.head()"
   ]
  },
  {
   "cell_type": "code",
   "execution_count": 13,
   "id": "7a21c39b",
   "metadata": {
    "execution": {
     "iopub.execute_input": "2024-08-21T12:53:23.422647Z",
     "iopub.status.busy": "2024-08-21T12:53:23.421334Z",
     "iopub.status.idle": "2024-08-21T12:53:23.437357Z",
     "shell.execute_reply": "2024-08-21T12:53:23.436003Z"
    },
    "id": "fhJxWYvAV4S7",
    "outputId": "0d78209f-6377-48c9-e6d7-f58d95e38cc7",
    "papermill": {
     "duration": 0.039147,
     "end_time": "2024-08-21T12:53:23.440227",
     "exception": false,
     "start_time": "2024-08-21T12:53:23.401080",
     "status": "completed"
    },
    "tags": []
   },
   "outputs": [
    {
     "data": {
      "text/html": [
       "<div>\n",
       "<style scoped>\n",
       "    .dataframe tbody tr th:only-of-type {\n",
       "        vertical-align: middle;\n",
       "    }\n",
       "\n",
       "    .dataframe tbody tr th {\n",
       "        vertical-align: top;\n",
       "    }\n",
       "\n",
       "    .dataframe thead th {\n",
       "        text-align: right;\n",
       "    }\n",
       "</style>\n",
       "<table border=\"1\" class=\"dataframe\">\n",
       "  <thead>\n",
       "    <tr style=\"text-align: right;\">\n",
       "      <th></th>\n",
       "      <th>Unnamed: 0</th>\n",
       "      <th>drugName</th>\n",
       "      <th>condition</th>\n",
       "      <th>review</th>\n",
       "      <th>rating</th>\n",
       "      <th>date</th>\n",
       "      <th>usefulCount</th>\n",
       "    </tr>\n",
       "  </thead>\n",
       "  <tbody>\n",
       "    <tr>\n",
       "      <th>0</th>\n",
       "      <td>163740</td>\n",
       "      <td>Mirtazapine</td>\n",
       "      <td>Depression</td>\n",
       "      <td>\"I&amp;#039;ve tried a few antidepressants over th...</td>\n",
       "      <td>10.0</td>\n",
       "      <td>February 28, 2012</td>\n",
       "      <td>22</td>\n",
       "    </tr>\n",
       "    <tr>\n",
       "      <th>2</th>\n",
       "      <td>159672</td>\n",
       "      <td>Bactrim</td>\n",
       "      <td>Urinary Tract Infection</td>\n",
       "      <td>\"Quick reduction of symptoms\"</td>\n",
       "      <td>9.0</td>\n",
       "      <td>September 29, 2017</td>\n",
       "      <td>3</td>\n",
       "    </tr>\n",
       "    <tr>\n",
       "      <th>3</th>\n",
       "      <td>39293</td>\n",
       "      <td>Contrave</td>\n",
       "      <td>Weight Loss</td>\n",
       "      <td>\"Contrave combines drugs that were used for al...</td>\n",
       "      <td>9.0</td>\n",
       "      <td>March 5, 2017</td>\n",
       "      <td>35</td>\n",
       "    </tr>\n",
       "    <tr>\n",
       "      <th>4</th>\n",
       "      <td>97768</td>\n",
       "      <td>Cyclafem 1 / 35</td>\n",
       "      <td>Birth Control</td>\n",
       "      <td>\"I have been on this birth control for one cyc...</td>\n",
       "      <td>9.0</td>\n",
       "      <td>October 22, 2015</td>\n",
       "      <td>4</td>\n",
       "    </tr>\n",
       "    <tr>\n",
       "      <th>6</th>\n",
       "      <td>215892</td>\n",
       "      <td>Copper</td>\n",
       "      <td>Birth Control</td>\n",
       "      <td>\"I&amp;#039;ve had the copper coil for about 3 mon...</td>\n",
       "      <td>6.0</td>\n",
       "      <td>June 6, 2016</td>\n",
       "      <td>1</td>\n",
       "    </tr>\n",
       "  </tbody>\n",
       "</table>\n",
       "</div>"
      ],
      "text/plain": [
       "   Unnamed: 0         drugName                condition  \\\n",
       "0      163740      Mirtazapine               Depression   \n",
       "2      159672          Bactrim  Urinary Tract Infection   \n",
       "3       39293         Contrave              Weight Loss   \n",
       "4       97768  Cyclafem 1 / 35            Birth Control   \n",
       "6      215892           Copper            Birth Control   \n",
       "\n",
       "                                              review  rating  \\\n",
       "0  \"I&#039;ve tried a few antidepressants over th...    10.0   \n",
       "2                      \"Quick reduction of symptoms\"     9.0   \n",
       "3  \"Contrave combines drugs that were used for al...     9.0   \n",
       "4  \"I have been on this birth control for one cyc...     9.0   \n",
       "6  \"I&#039;ve had the copper coil for about 3 mon...     6.0   \n",
       "\n",
       "                 date  usefulCount  \n",
       "0   February 28, 2012           22  \n",
       "2  September 29, 2017            3  \n",
       "3       March 5, 2017           35  \n",
       "4    October 22, 2015            4  \n",
       "6        June 6, 2016            1  "
      ]
     },
     "execution_count": 13,
     "metadata": {},
     "output_type": "execute_result"
    }
   ],
   "source": [
    "df_test_data.head()"
   ]
  },
  {
   "cell_type": "code",
   "execution_count": 14,
   "id": "a5eb4ccd",
   "metadata": {
    "execution": {
     "iopub.execute_input": "2024-08-21T12:53:23.479381Z",
     "iopub.status.busy": "2024-08-21T12:53:23.478972Z",
     "iopub.status.idle": "2024-08-21T12:53:23.486646Z",
     "shell.execute_reply": "2024-08-21T12:53:23.485378Z"
    },
    "id": "iKtgaA0l1oZa",
    "outputId": "bec80457-1452-4070-c6b2-f87343d4634f",
    "papermill": {
     "duration": 0.030811,
     "end_time": "2024-08-21T12:53:23.489353",
     "exception": false,
     "start_time": "2024-08-21T12:53:23.458542",
     "status": "completed"
    },
    "tags": []
   },
   "outputs": [
    {
     "data": {
      "text/plain": [
       "(116963, 7)"
      ]
     },
     "execution_count": 14,
     "metadata": {},
     "output_type": "execute_result"
    }
   ],
   "source": [
    "df_train.shape"
   ]
  },
  {
   "cell_type": "code",
   "execution_count": 15,
   "id": "2c669173",
   "metadata": {
    "execution": {
     "iopub.execute_input": "2024-08-21T12:53:23.532532Z",
     "iopub.status.busy": "2024-08-21T12:53:23.531956Z",
     "iopub.status.idle": "2024-08-21T12:53:23.540936Z",
     "shell.execute_reply": "2024-08-21T12:53:23.539567Z"
    },
    "id": "Dh5S215SWMe2",
    "outputId": "abf840af-25f0-4177-d5da-f3c35528822f",
    "papermill": {
     "duration": 0.03396,
     "end_time": "2024-08-21T12:53:23.544093",
     "exception": false,
     "start_time": "2024-08-21T12:53:23.510133",
     "status": "completed"
    },
    "tags": []
   },
   "outputs": [
    {
     "data": {
      "text/plain": [
       "(39117, 7)"
      ]
     },
     "execution_count": 15,
     "metadata": {},
     "output_type": "execute_result"
    }
   ],
   "source": [
    "df_test_data.shape"
   ]
  },
  {
   "cell_type": "code",
   "execution_count": 16,
   "id": "c218ec36",
   "metadata": {
    "execution": {
     "iopub.execute_input": "2024-08-21T12:53:23.584044Z",
     "iopub.status.busy": "2024-08-21T12:53:23.583615Z",
     "iopub.status.idle": "2024-08-21T12:53:23.594305Z",
     "shell.execute_reply": "2024-08-21T12:53:23.592845Z"
    },
    "id": "x5O-zhbuWSOC",
    "papermill": {
     "duration": 0.033988,
     "end_time": "2024-08-21T12:53:23.597138",
     "exception": false,
     "start_time": "2024-08-21T12:53:23.563150",
     "status": "completed"
    },
    "tags": []
   },
   "outputs": [],
   "source": [
    "Uncleaned_Dataset_test = df_test_data.drop(['Unnamed: 0','drugName', 'rating', 'date', 'usefulCount'], axis=1) # keep only medical condition and review column"
   ]
  },
  {
   "cell_type": "code",
   "execution_count": 17,
   "id": "606c5f37",
   "metadata": {
    "execution": {
     "iopub.execute_input": "2024-08-21T12:53:23.637398Z",
     "iopub.status.busy": "2024-08-21T12:53:23.636964Z",
     "iopub.status.idle": "2024-08-21T12:53:23.649402Z",
     "shell.execute_reply": "2024-08-21T12:53:23.648133Z"
    },
    "id": "DP9a4-1Q1rQK",
    "papermill": {
     "duration": 0.035334,
     "end_time": "2024-08-21T12:53:23.652275",
     "exception": false,
     "start_time": "2024-08-21T12:53:23.616941",
     "status": "completed"
    },
    "tags": []
   },
   "outputs": [],
   "source": [
    "Uncleaned_Dataset = df_train.drop(['Unnamed: 0','drugName', 'rating', 'date', 'usefulCount'], axis=1) # keep only medical condition and review column"
   ]
  },
  {
   "cell_type": "code",
   "execution_count": 18,
   "id": "5c80ed2b",
   "metadata": {
    "execution": {
     "iopub.execute_input": "2024-08-21T12:53:23.696048Z",
     "iopub.status.busy": "2024-08-21T12:53:23.695623Z",
     "iopub.status.idle": "2024-08-21T12:53:23.707761Z",
     "shell.execute_reply": "2024-08-21T12:53:23.706416Z"
    },
    "id": "sns1kAr-1vPA",
    "outputId": "f15ebbb4-07db-4d10-93da-1ef797afbff2",
    "papermill": {
     "duration": 0.036792,
     "end_time": "2024-08-21T12:53:23.710619",
     "exception": false,
     "start_time": "2024-08-21T12:53:23.673827",
     "status": "completed"
    },
    "tags": []
   },
   "outputs": [
    {
     "data": {
      "text/html": [
       "<div>\n",
       "<style scoped>\n",
       "    .dataframe tbody tr th:only-of-type {\n",
       "        vertical-align: middle;\n",
       "    }\n",
       "\n",
       "    .dataframe tbody tr th {\n",
       "        vertical-align: top;\n",
       "    }\n",
       "\n",
       "    .dataframe thead th {\n",
       "        text-align: right;\n",
       "    }\n",
       "</style>\n",
       "<table border=\"1\" class=\"dataframe\">\n",
       "  <thead>\n",
       "    <tr style=\"text-align: right;\">\n",
       "      <th></th>\n",
       "      <th>condition</th>\n",
       "      <th>review</th>\n",
       "    </tr>\n",
       "  </thead>\n",
       "  <tbody>\n",
       "    <tr>\n",
       "      <th>1</th>\n",
       "      <td>ADHD</td>\n",
       "      <td>\"My son is halfway through his fourth week of ...</td>\n",
       "    </tr>\n",
       "    <tr>\n",
       "      <th>2</th>\n",
       "      <td>Birth Control</td>\n",
       "      <td>\"I used to take another oral contraceptive, wh...</td>\n",
       "    </tr>\n",
       "    <tr>\n",
       "      <th>3</th>\n",
       "      <td>Birth Control</td>\n",
       "      <td>\"This is my first time using any form of birth...</td>\n",
       "    </tr>\n",
       "    <tr>\n",
       "      <th>4</th>\n",
       "      <td>Opiate Dependence</td>\n",
       "      <td>\"Suboxone has completely turned my life around...</td>\n",
       "    </tr>\n",
       "    <tr>\n",
       "      <th>6</th>\n",
       "      <td>Emergency Contraception</td>\n",
       "      <td>\"He pulled out, but he cummed a bit in me. I t...</td>\n",
       "    </tr>\n",
       "  </tbody>\n",
       "</table>\n",
       "</div>"
      ],
      "text/plain": [
       "                 condition                                             review\n",
       "1                     ADHD  \"My son is halfway through his fourth week of ...\n",
       "2            Birth Control  \"I used to take another oral contraceptive, wh...\n",
       "3            Birth Control  \"This is my first time using any form of birth...\n",
       "4        Opiate Dependence  \"Suboxone has completely turned my life around...\n",
       "6  Emergency Contraception  \"He pulled out, but he cummed a bit in me. I t..."
      ]
     },
     "execution_count": 18,
     "metadata": {},
     "output_type": "execute_result"
    }
   ],
   "source": [
    "Uncleaned_Dataset.head()"
   ]
  },
  {
   "cell_type": "code",
   "execution_count": 19,
   "id": "04479aa3",
   "metadata": {
    "execution": {
     "iopub.execute_input": "2024-08-21T12:53:23.752314Z",
     "iopub.status.busy": "2024-08-21T12:53:23.751881Z",
     "iopub.status.idle": "2024-08-21T12:53:23.764005Z",
     "shell.execute_reply": "2024-08-21T12:53:23.762665Z"
    },
    "id": "59P5lFdBWaMr",
    "outputId": "cd5029b1-0983-4a57-a606-b836141bc1de",
    "papermill": {
     "duration": 0.035664,
     "end_time": "2024-08-21T12:53:23.766574",
     "exception": false,
     "start_time": "2024-08-21T12:53:23.730910",
     "status": "completed"
    },
    "tags": []
   },
   "outputs": [
    {
     "data": {
      "text/html": [
       "<div>\n",
       "<style scoped>\n",
       "    .dataframe tbody tr th:only-of-type {\n",
       "        vertical-align: middle;\n",
       "    }\n",
       "\n",
       "    .dataframe tbody tr th {\n",
       "        vertical-align: top;\n",
       "    }\n",
       "\n",
       "    .dataframe thead th {\n",
       "        text-align: right;\n",
       "    }\n",
       "</style>\n",
       "<table border=\"1\" class=\"dataframe\">\n",
       "  <thead>\n",
       "    <tr style=\"text-align: right;\">\n",
       "      <th></th>\n",
       "      <th>condition</th>\n",
       "      <th>review</th>\n",
       "    </tr>\n",
       "  </thead>\n",
       "  <tbody>\n",
       "    <tr>\n",
       "      <th>0</th>\n",
       "      <td>Depression</td>\n",
       "      <td>\"I&amp;#039;ve tried a few antidepressants over th...</td>\n",
       "    </tr>\n",
       "    <tr>\n",
       "      <th>2</th>\n",
       "      <td>Urinary Tract Infection</td>\n",
       "      <td>\"Quick reduction of symptoms\"</td>\n",
       "    </tr>\n",
       "    <tr>\n",
       "      <th>3</th>\n",
       "      <td>Weight Loss</td>\n",
       "      <td>\"Contrave combines drugs that were used for al...</td>\n",
       "    </tr>\n",
       "    <tr>\n",
       "      <th>4</th>\n",
       "      <td>Birth Control</td>\n",
       "      <td>\"I have been on this birth control for one cyc...</td>\n",
       "    </tr>\n",
       "    <tr>\n",
       "      <th>6</th>\n",
       "      <td>Birth Control</td>\n",
       "      <td>\"I&amp;#039;ve had the copper coil for about 3 mon...</td>\n",
       "    </tr>\n",
       "  </tbody>\n",
       "</table>\n",
       "</div>"
      ],
      "text/plain": [
       "                 condition                                             review\n",
       "0               Depression  \"I&#039;ve tried a few antidepressants over th...\n",
       "2  Urinary Tract Infection                      \"Quick reduction of symptoms\"\n",
       "3              Weight Loss  \"Contrave combines drugs that were used for al...\n",
       "4            Birth Control  \"I have been on this birth control for one cyc...\n",
       "6            Birth Control  \"I&#039;ve had the copper coil for about 3 mon..."
      ]
     },
     "execution_count": 19,
     "metadata": {},
     "output_type": "execute_result"
    }
   ],
   "source": [
    "Uncleaned_Dataset_test.head()"
   ]
  },
  {
   "cell_type": "code",
   "execution_count": 20,
   "id": "737ba575",
   "metadata": {
    "execution": {
     "iopub.execute_input": "2024-08-21T12:53:23.808528Z",
     "iopub.status.busy": "2024-08-21T12:53:23.808088Z",
     "iopub.status.idle": "2024-08-21T12:53:23.821997Z",
     "shell.execute_reply": "2024-08-21T12:53:23.820611Z"
    },
    "id": "XCxJfBGn1xVr",
    "outputId": "77feb9bb-4c17-45cf-8ca8-9caed3899356",
    "papermill": {
     "duration": 0.038973,
     "end_time": "2024-08-21T12:53:23.824814",
     "exception": false,
     "start_time": "2024-08-21T12:53:23.785841",
     "status": "completed"
    },
    "tags": []
   },
   "outputs": [
    {
     "data": {
      "text/plain": [
       "'\"I used to take another oral contraceptive, which had 21 pill cycle, and was very happy- very light periods, max 5 days, no other side effects. But it contained hormone gestodene, which is not available in US, so I switched to Lybrel, because the ingredients are similar. When my other pills ended, I started Lybrel immediately, on my first day of period, as the instructions said. And the period lasted for two weeks. When taking the second pack- same two weeks. And now, with third pack things got even worse- my third period lasted for two weeks and now it&#039;s the end of the third week- I still have daily brown discharge.\\r\\nThe positive side is that I didn&#039;t have any other side effects. The idea of being period free was so tempting... Alas.\"'"
      ]
     },
     "execution_count": 20,
     "metadata": {},
     "output_type": "execute_result"
    }
   ],
   "source": [
    "Uncleaned_Dataset[\"review\"][2] # checking a review sample to get an idea about the word composition"
   ]
  },
  {
   "cell_type": "code",
   "execution_count": 21,
   "id": "c0e00810",
   "metadata": {
    "execution": {
     "iopub.execute_input": "2024-08-21T12:53:23.867926Z",
     "iopub.status.busy": "2024-08-21T12:53:23.867521Z",
     "iopub.status.idle": "2024-08-21T12:53:23.875409Z",
     "shell.execute_reply": "2024-08-21T12:53:23.874141Z"
    },
    "id": "j3Is3umD3ujZ",
    "outputId": "c7c3b721-e40f-4970-da18-096455a95cfe",
    "papermill": {
     "duration": 0.033377,
     "end_time": "2024-08-21T12:53:23.878588",
     "exception": false,
     "start_time": "2024-08-21T12:53:23.845211",
     "status": "completed"
    },
    "tags": []
   },
   "outputs": [
    {
     "data": {
      "text/plain": [
       "'\"I have taken anti-depressants for years, with some improvement but mostly moderate to severe side affects, which makes me go off them.\\r\\n\\r\\nI only take Cymbalta now mostly for pain.\\r\\n\\r\\nWhen I began Deplin, I noticed a major improvement overnight. More energy, better disposition, and no sinking to the low lows of major depression. I have been taking it for about 3 months now and feel like a normal person for the first time ever. Best thing, no side effects.\"'"
      ]
     },
     "execution_count": 21,
     "metadata": {},
     "output_type": "execute_result"
    }
   ],
   "source": [
    "Uncleaned_Dataset[\"review\"][11]"
   ]
  },
  {
   "cell_type": "code",
   "execution_count": 22,
   "id": "3a0bd367",
   "metadata": {
    "execution": {
     "iopub.execute_input": "2024-08-21T12:53:23.988557Z",
     "iopub.status.busy": "2024-08-21T12:53:23.988153Z",
     "iopub.status.idle": "2024-08-21T12:53:24.232034Z",
     "shell.execute_reply": "2024-08-21T12:53:24.229616Z"
    },
    "id": "z1cgXNfE3xwR",
    "papermill": {
     "duration": 0.335484,
     "end_time": "2024-08-21T12:53:24.234922",
     "exception": false,
     "start_time": "2024-08-21T12:53:23.899438",
     "status": "completed"
    },
    "tags": []
   },
   "outputs": [],
   "source": [
    "for i, col in enumerate(Uncleaned_Dataset.columns): # removes ' \" ' from all the reviews\n",
    "  Uncleaned_Dataset.iloc[:,i]=Uncleaned_Dataset.iloc[:,i].str.replace('\"','')"
   ]
  },
  {
   "cell_type": "markdown",
   "id": "849b19f0",
   "metadata": {
    "id": "JnUEcvTQ4Pgy",
    "papermill": {
     "duration": 0.020973,
     "end_time": "2024-08-21T12:53:24.280271",
     "exception": false,
     "start_time": "2024-08-21T12:53:24.259298",
     "status": "completed"
    },
    "tags": []
   },
   "source": [
    "Removing stopwords"
   ]
  },
  {
   "cell_type": "code",
   "execution_count": 23,
   "id": "ab55e75c",
   "metadata": {
    "execution": {
     "iopub.execute_input": "2024-08-21T12:53:24.325372Z",
     "iopub.status.busy": "2024-08-21T12:53:24.324902Z",
     "iopub.status.idle": "2024-08-21T12:53:24.412515Z",
     "shell.execute_reply": "2024-08-21T12:53:24.410583Z"
    },
    "id": "zGXJzofeWmt9",
    "papermill": {
     "duration": 0.113741,
     "end_time": "2024-08-21T12:53:24.416382",
     "exception": false,
     "start_time": "2024-08-21T12:53:24.302641",
     "status": "completed"
    },
    "tags": []
   },
   "outputs": [],
   "source": [
    "for i, col in enumerate(Uncleaned_Dataset_test.columns): # removes ' \" ' from all the reviews\n",
    "  Uncleaned_Dataset_test.iloc[:,i]=Uncleaned_Dataset_test.iloc[:,i].str.replace('\"','')"
   ]
  },
  {
   "cell_type": "code",
   "execution_count": 24,
   "id": "e15dfc83",
   "metadata": {
    "execution": {
     "iopub.execute_input": "2024-08-21T12:53:24.460004Z",
     "iopub.status.busy": "2024-08-21T12:53:24.459583Z",
     "iopub.status.idle": "2024-08-21T12:53:24.473434Z",
     "shell.execute_reply": "2024-08-21T12:53:24.471983Z"
    },
    "id": "va3NZ1if8CRB",
    "outputId": "da600674-dd1a-4fac-d021-d41b104a3b9e",
    "papermill": {
     "duration": 0.03881,
     "end_time": "2024-08-21T12:53:24.476519",
     "exception": false,
     "start_time": "2024-08-21T12:53:24.437709",
     "status": "completed"
    },
    "tags": []
   },
   "outputs": [
    {
     "data": {
      "text/html": [
       "<div>\n",
       "<style scoped>\n",
       "    .dataframe tbody tr th:only-of-type {\n",
       "        vertical-align: middle;\n",
       "    }\n",
       "\n",
       "    .dataframe tbody tr th {\n",
       "        vertical-align: top;\n",
       "    }\n",
       "\n",
       "    .dataframe thead th {\n",
       "        text-align: right;\n",
       "    }\n",
       "</style>\n",
       "<table border=\"1\" class=\"dataframe\">\n",
       "  <thead>\n",
       "    <tr style=\"text-align: right;\">\n",
       "      <th></th>\n",
       "      <th>condition</th>\n",
       "      <th>review</th>\n",
       "    </tr>\n",
       "  </thead>\n",
       "  <tbody>\n",
       "    <tr>\n",
       "      <th>1</th>\n",
       "      <td>ADHD</td>\n",
       "      <td>My son is halfway through his fourth week of I...</td>\n",
       "    </tr>\n",
       "    <tr>\n",
       "      <th>2</th>\n",
       "      <td>Birth Control</td>\n",
       "      <td>I used to take another oral contraceptive, whi...</td>\n",
       "    </tr>\n",
       "    <tr>\n",
       "      <th>3</th>\n",
       "      <td>Birth Control</td>\n",
       "      <td>This is my first time using any form of birth ...</td>\n",
       "    </tr>\n",
       "    <tr>\n",
       "      <th>4</th>\n",
       "      <td>Opiate Dependence</td>\n",
       "      <td>Suboxone has completely turned my life around....</td>\n",
       "    </tr>\n",
       "    <tr>\n",
       "      <th>6</th>\n",
       "      <td>Emergency Contraception</td>\n",
       "      <td>He pulled out, but he cummed a bit in me. I to...</td>\n",
       "    </tr>\n",
       "  </tbody>\n",
       "</table>\n",
       "</div>"
      ],
      "text/plain": [
       "                 condition                                             review\n",
       "1                     ADHD  My son is halfway through his fourth week of I...\n",
       "2            Birth Control  I used to take another oral contraceptive, whi...\n",
       "3            Birth Control  This is my first time using any form of birth ...\n",
       "4        Opiate Dependence  Suboxone has completely turned my life around....\n",
       "6  Emergency Contraception  He pulled out, but he cummed a bit in me. I to..."
      ]
     },
     "execution_count": 24,
     "metadata": {},
     "output_type": "execute_result"
    }
   ],
   "source": [
    "Uncleaned_Dataset.head()"
   ]
  },
  {
   "cell_type": "code",
   "execution_count": 25,
   "id": "3cc56dcb",
   "metadata": {
    "execution": {
     "iopub.execute_input": "2024-08-21T12:53:24.524456Z",
     "iopub.status.busy": "2024-08-21T12:53:24.524009Z",
     "iopub.status.idle": "2024-08-21T12:53:24.536347Z",
     "shell.execute_reply": "2024-08-21T12:53:24.534804Z"
    },
    "id": "cPFzYnh2Y9Nm",
    "outputId": "aa6e16d1-f5e4-4ae3-afd3-38ef4c2d1291",
    "papermill": {
     "duration": 0.038994,
     "end_time": "2024-08-21T12:53:24.539111",
     "exception": false,
     "start_time": "2024-08-21T12:53:24.500117",
     "status": "completed"
    },
    "tags": []
   },
   "outputs": [
    {
     "data": {
      "text/html": [
       "<div>\n",
       "<style scoped>\n",
       "    .dataframe tbody tr th:only-of-type {\n",
       "        vertical-align: middle;\n",
       "    }\n",
       "\n",
       "    .dataframe tbody tr th {\n",
       "        vertical-align: top;\n",
       "    }\n",
       "\n",
       "    .dataframe thead th {\n",
       "        text-align: right;\n",
       "    }\n",
       "</style>\n",
       "<table border=\"1\" class=\"dataframe\">\n",
       "  <thead>\n",
       "    <tr style=\"text-align: right;\">\n",
       "      <th></th>\n",
       "      <th>condition</th>\n",
       "      <th>review</th>\n",
       "    </tr>\n",
       "  </thead>\n",
       "  <tbody>\n",
       "    <tr>\n",
       "      <th>0</th>\n",
       "      <td>Depression</td>\n",
       "      <td>I&amp;#039;ve tried a few antidepressants over the...</td>\n",
       "    </tr>\n",
       "    <tr>\n",
       "      <th>2</th>\n",
       "      <td>Urinary Tract Infection</td>\n",
       "      <td>Quick reduction of symptoms</td>\n",
       "    </tr>\n",
       "    <tr>\n",
       "      <th>3</th>\n",
       "      <td>Weight Loss</td>\n",
       "      <td>Contrave combines drugs that were used for alc...</td>\n",
       "    </tr>\n",
       "    <tr>\n",
       "      <th>4</th>\n",
       "      <td>Birth Control</td>\n",
       "      <td>I have been on this birth control for one cycl...</td>\n",
       "    </tr>\n",
       "    <tr>\n",
       "      <th>6</th>\n",
       "      <td>Birth Control</td>\n",
       "      <td>I&amp;#039;ve had the copper coil for about 3 mont...</td>\n",
       "    </tr>\n",
       "  </tbody>\n",
       "</table>\n",
       "</div>"
      ],
      "text/plain": [
       "                 condition                                             review\n",
       "0               Depression  I&#039;ve tried a few antidepressants over the...\n",
       "2  Urinary Tract Infection                        Quick reduction of symptoms\n",
       "3              Weight Loss  Contrave combines drugs that were used for alc...\n",
       "4            Birth Control  I have been on this birth control for one cycl...\n",
       "6            Birth Control  I&#039;ve had the copper coil for about 3 mont..."
      ]
     },
     "execution_count": 25,
     "metadata": {},
     "output_type": "execute_result"
    }
   ],
   "source": [
    "Uncleaned_Dataset_test.head()"
   ]
  },
  {
   "cell_type": "code",
   "execution_count": 26,
   "id": "135d3ce5",
   "metadata": {
    "execution": {
     "iopub.execute_input": "2024-08-21T12:53:24.585711Z",
     "iopub.status.busy": "2024-08-21T12:53:24.584385Z",
     "iopub.status.idle": "2024-08-21T12:53:24.590845Z",
     "shell.execute_reply": "2024-08-21T12:53:24.589332Z"
    },
    "id": "BxycKMX3TUft",
    "papermill": {
     "duration": 0.032564,
     "end_time": "2024-08-21T12:53:24.593457",
     "exception": false,
     "start_time": "2024-08-21T12:53:24.560893",
     "status": "completed"
    },
    "tags": []
   },
   "outputs": [],
   "source": [
    "X_train_Uncleaned = Uncleaned_Dataset['review']\n",
    "y_train_Uncleaned = Uncleaned_Dataset['condition']"
   ]
  },
  {
   "cell_type": "code",
   "execution_count": 27,
   "id": "d82e8476",
   "metadata": {
    "execution": {
     "iopub.execute_input": "2024-08-21T12:53:24.637744Z",
     "iopub.status.busy": "2024-08-21T12:53:24.636944Z",
     "iopub.status.idle": "2024-08-21T12:53:24.643287Z",
     "shell.execute_reply": "2024-08-21T12:53:24.641705Z"
    },
    "id": "KDJTMGpJUBdU",
    "papermill": {
     "duration": 0.032126,
     "end_time": "2024-08-21T12:53:24.646180",
     "exception": false,
     "start_time": "2024-08-21T12:53:24.614054",
     "status": "completed"
    },
    "tags": []
   },
   "outputs": [],
   "source": [
    "X_test_Uncleaned = Uncleaned_Dataset['review']\n",
    "y_test_Uncleaned = Uncleaned_Dataset['condition']"
   ]
  },
  {
   "cell_type": "markdown",
   "id": "97dfc112",
   "metadata": {
    "id": "UGVETAETiVW0",
    "papermill": {
     "duration": 0.022095,
     "end_time": "2024-08-21T12:53:24.690707",
     "exception": false,
     "start_time": "2024-08-21T12:53:24.668612",
     "status": "completed"
    },
    "tags": []
   },
   "source": [
    "## Creating features and Target Variables"
   ]
  },
  {
   "cell_type": "code",
   "execution_count": 28,
   "id": "678479e3",
   "metadata": {
    "execution": {
     "iopub.execute_input": "2024-08-21T12:53:24.740603Z",
     "iopub.status.busy": "2024-08-21T12:53:24.740128Z",
     "iopub.status.idle": "2024-08-21T12:53:24.746908Z",
     "shell.execute_reply": "2024-08-21T12:53:24.745500Z"
    },
    "id": "dpyGTfQ6krgT",
    "papermill": {
     "duration": 0.035898,
     "end_time": "2024-08-21T12:53:24.749585",
     "exception": false,
     "start_time": "2024-08-21T12:53:24.713687",
     "status": "completed"
    },
    "tags": []
   },
   "outputs": [],
   "source": [
    "# Code for evaluating a model on uncleaned data\n",
    "def Evaluate_Uncleaned(model, X_train, X_test):\n",
    "  model.fit(X_train, y_train_Uncleaned)\n",
    "  pred = model.predict(X_test)\n",
    "  score = metrics.accuracy_score(y_test_Uncleaned, pred)\n",
    "  return score"
   ]
  },
  {
   "cell_type": "markdown",
   "id": "8c97bc94",
   "metadata": {
    "id": "0fH4RdV_7_7d",
    "papermill": {
     "duration": 0.021164,
     "end_time": "2024-08-21T12:53:24.793994",
     "exception": false,
     "start_time": "2024-08-21T12:53:24.772830",
     "status": "completed"
    },
    "tags": []
   },
   "source": [
    "# Bag of Words : Uncleaned"
   ]
  },
  {
   "cell_type": "markdown",
   "id": "43fe461c",
   "metadata": {
    "id": "i3kuo5Ux7_7e",
    "papermill": {
     "duration": 0.020654,
     "end_time": "2024-08-21T12:53:24.836314",
     "exception": false,
     "start_time": "2024-08-21T12:53:24.815660",
     "status": "completed"
    },
    "tags": []
   },
   "source": [
    "## Uni-Gram"
   ]
  },
  {
   "cell_type": "code",
   "execution_count": 29,
   "id": "4b5972f7",
   "metadata": {
    "execution": {
     "iopub.execute_input": "2024-08-21T12:53:24.880190Z",
     "iopub.status.busy": "2024-08-21T12:53:24.879757Z",
     "iopub.status.idle": "2024-08-21T12:53:48.400547Z",
     "shell.execute_reply": "2024-08-21T12:53:48.399237Z"
    },
    "id": "7_h4BUqA7_7f",
    "papermill": {
     "duration": 23.546438,
     "end_time": "2024-08-21T12:53:48.403897",
     "exception": false,
     "start_time": "2024-08-21T12:53:24.857459",
     "status": "completed"
    },
    "tags": []
   },
   "outputs": [],
   "source": [
    "from sklearn.feature_extraction.text import CountVectorizer\n",
    "count_vectorizer = CountVectorizer(stop_words = 'english')\n",
    "count_train_uni = count_vectorizer.fit_transform(X_train_Uncleaned)\n",
    "count_test_uni = count_vectorizer.transform(X_test_Uncleaned)"
   ]
  },
  {
   "cell_type": "markdown",
   "id": "10611fb0",
   "metadata": {
    "id": "y0VawY4F7_7f",
    "papermill": {
     "duration": 0.021945,
     "end_time": "2024-08-21T12:53:48.448387",
     "exception": false,
     "start_time": "2024-08-21T12:53:48.426442",
     "status": "completed"
    },
    "tags": []
   },
   "source": [
    "### Machine Learning Model : Decision Tree"
   ]
  },
  {
   "cell_type": "code",
   "execution_count": 30,
   "id": "6cb9ea26",
   "metadata": {
    "execution": {
     "iopub.execute_input": "2024-08-21T12:53:48.493554Z",
     "iopub.status.busy": "2024-08-21T12:53:48.493115Z",
     "iopub.status.idle": "2024-08-21T12:57:08.861784Z",
     "shell.execute_reply": "2024-08-21T12:57:08.860401Z"
    },
    "id": "BHPGHwfG7_7g",
    "outputId": "d2eb1d04-4dc8-4dee-c5d9-44fba0415675",
    "papermill": {
     "duration": 200.415929,
     "end_time": "2024-08-21T12:57:08.886369",
     "exception": false,
     "start_time": "2024-08-21T12:53:48.470440",
     "status": "completed"
    },
    "tags": []
   },
   "outputs": [
    {
     "name": "stdout",
     "output_type": "stream",
     "text": [
      "accuracy: 0.997\n"
     ]
    }
   ],
   "source": [
    "from sklearn.tree import DecisionTreeClassifier\n",
    "model = DecisionTreeClassifier()\n",
    "score = Evaluate_Uncleaned(model, count_train_uni, count_test_uni)\n",
    "print(\"accuracy: %0.3f\" % score)\n"
   ]
  },
  {
   "cell_type": "markdown",
   "id": "3c31db59",
   "metadata": {
    "id": "jZ53Wy3v7_7g",
    "papermill": {
     "duration": 0.020514,
     "end_time": "2024-08-21T12:57:08.927819",
     "exception": false,
     "start_time": "2024-08-21T12:57:08.907305",
     "status": "completed"
    },
    "tags": []
   },
   "source": [
    "### Machine Learning Model:Naive Bayes"
   ]
  },
  {
   "cell_type": "code",
   "execution_count": 31,
   "id": "e7c19330",
   "metadata": {
    "execution": {
     "iopub.execute_input": "2024-08-21T12:57:08.972128Z",
     "iopub.status.busy": "2024-08-21T12:57:08.971688Z",
     "iopub.status.idle": "2024-08-21T12:57:10.771937Z",
     "shell.execute_reply": "2024-08-21T12:57:10.770109Z"
    },
    "id": "zDJhMSlF7_7h",
    "outputId": "df65f5d7-1e70-4a6e-a7b2-36343f1bb02e",
    "papermill": {
     "duration": 1.826532,
     "end_time": "2024-08-21T12:57:10.775195",
     "exception": false,
     "start_time": "2024-08-21T12:57:08.948663",
     "status": "completed"
    },
    "tags": []
   },
   "outputs": [
    {
     "name": "stdout",
     "output_type": "stream",
     "text": [
      "accuracy: 0.788\n"
     ]
    }
   ],
   "source": [
    "from sklearn.naive_bayes import MultinomialNB\n",
    "model = MultinomialNB()\n",
    "score = Evaluate_Uncleaned(model, count_train_uni, count_test_uni)\n",
    "print(\"accuracy: %0.3f\" % score)"
   ]
  },
  {
   "cell_type": "markdown",
   "id": "f12ff9e7",
   "metadata": {
    "id": "CauSVTFj7_7h",
    "papermill": {
     "duration": 0.025016,
     "end_time": "2024-08-21T12:57:10.827302",
     "exception": false,
     "start_time": "2024-08-21T12:57:10.802286",
     "status": "completed"
    },
    "tags": []
   },
   "source": [
    "### Machine Learning Model : Passive Aggressive Classifier"
   ]
  },
  {
   "cell_type": "code",
   "execution_count": 32,
   "id": "a669c35a",
   "metadata": {
    "execution": {
     "iopub.execute_input": "2024-08-21T12:57:10.874884Z",
     "iopub.status.busy": "2024-08-21T12:57:10.874452Z",
     "iopub.status.idle": "2024-08-21T12:57:43.266097Z",
     "shell.execute_reply": "2024-08-21T12:57:43.264566Z"
    },
    "id": "qeA_2clh7_7h",
    "outputId": "f23d7c10-a026-4a94-bd25-a8e56d0513e2",
    "papermill": {
     "duration": 32.440429,
     "end_time": "2024-08-21T12:57:43.290386",
     "exception": false,
     "start_time": "2024-08-21T12:57:10.849957",
     "status": "completed"
    },
    "tags": []
   },
   "outputs": [
    {
     "name": "stdout",
     "output_type": "stream",
     "text": [
      "accuracy: 0.928\n"
     ]
    }
   ],
   "source": [
    "from sklearn.linear_model import PassiveAggressiveClassifier\n",
    "model = PassiveAggressiveClassifier()\n",
    "score = Evaluate_Uncleaned(model, count_train_uni, count_test_uni)\n",
    "print(\"accuracy: %0.3f\" % score)"
   ]
  },
  {
   "cell_type": "markdown",
   "id": "77f8afaa",
   "metadata": {
    "id": "lc9YuOyJ7_7j",
    "papermill": {
     "duration": 0.022437,
     "end_time": "2024-08-21T12:57:43.334656",
     "exception": false,
     "start_time": "2024-08-21T12:57:43.312219",
     "status": "completed"
    },
    "tags": []
   },
   "source": [
    "## Bi-Gram"
   ]
  },
  {
   "cell_type": "code",
   "execution_count": 33,
   "id": "94652329",
   "metadata": {
    "execution": {
     "iopub.execute_input": "2024-08-21T12:57:43.382130Z",
     "iopub.status.busy": "2024-08-21T12:57:43.381728Z",
     "iopub.status.idle": "2024-08-21T12:58:29.651670Z",
     "shell.execute_reply": "2024-08-21T12:58:29.650076Z"
    },
    "id": "znLbTZSC7_7j",
    "papermill": {
     "duration": 46.297844,
     "end_time": "2024-08-21T12:58:29.655167",
     "exception": false,
     "start_time": "2024-08-21T12:57:43.357323",
     "status": "completed"
    },
    "tags": []
   },
   "outputs": [],
   "source": [
    "count_vectorizer = CountVectorizer(stop_words = 'english', ngram_range=(1, 2))\n",
    "count_train_bi = count_vectorizer.fit_transform(X_train_Uncleaned)\n",
    "count_test_bi = count_vectorizer.transform(X_test_Uncleaned)"
   ]
  },
  {
   "cell_type": "markdown",
   "id": "730e41ac",
   "metadata": {
    "id": "e2ts9Cjx7_7j",
    "papermill": {
     "duration": 0.021377,
     "end_time": "2024-08-21T12:58:29.698808",
     "exception": false,
     "start_time": "2024-08-21T12:58:29.677431",
     "status": "completed"
    },
    "tags": []
   },
   "source": [
    "### Machine Learning Model : Decision Tree"
   ]
  },
  {
   "cell_type": "code",
   "execution_count": 34,
   "id": "96a581f1",
   "metadata": {
    "execution": {
     "iopub.execute_input": "2024-08-21T12:58:29.746316Z",
     "iopub.status.busy": "2024-08-21T12:58:29.745883Z",
     "iopub.status.idle": "2024-08-21T13:26:55.939633Z",
     "shell.execute_reply": "2024-08-21T13:26:55.938085Z"
    },
    "id": "53zVAuTb7_7j",
    "papermill": {
     "duration": 1706.245085,
     "end_time": "2024-08-21T13:26:55.965633",
     "exception": false,
     "start_time": "2024-08-21T12:58:29.720548",
     "status": "completed"
    },
    "tags": []
   },
   "outputs": [
    {
     "name": "stdout",
     "output_type": "stream",
     "text": [
      "accuracy: 0.997\n"
     ]
    }
   ],
   "source": [
    "model = DecisionTreeClassifier()\n",
    "score = Evaluate_Uncleaned(model, count_train_bi, count_test_bi)\n",
    "print(\"accuracy: %0.3f\" % score)"
   ]
  },
  {
   "cell_type": "markdown",
   "id": "5a83e8cc",
   "metadata": {
    "id": "yocN9EWe7_7k",
    "papermill": {
     "duration": 0.023801,
     "end_time": "2024-08-21T13:26:56.014988",
     "exception": false,
     "start_time": "2024-08-21T13:26:55.991187",
     "status": "completed"
    },
    "tags": []
   },
   "source": [
    "### Machine Learning Model:Naive Bayes"
   ]
  },
  {
   "cell_type": "code",
   "execution_count": 35,
   "id": "790439ed",
   "metadata": {
    "execution": {
     "iopub.execute_input": "2024-08-21T13:26:56.065163Z",
     "iopub.status.busy": "2024-08-21T13:26:56.064681Z",
     "iopub.status.idle": "2024-08-21T13:27:02.600664Z",
     "shell.execute_reply": "2024-08-21T13:27:02.599163Z"
    },
    "id": "Vpj0EWnD7_7k",
    "papermill": {
     "duration": 6.565265,
     "end_time": "2024-08-21T13:27:02.603462",
     "exception": false,
     "start_time": "2024-08-21T13:26:56.038197",
     "status": "completed"
    },
    "tags": []
   },
   "outputs": [
    {
     "name": "stdout",
     "output_type": "stream",
     "text": [
      "accuracy: 0.757\n"
     ]
    }
   ],
   "source": [
    "model = MultinomialNB()\n",
    "score = Evaluate_Uncleaned(model, count_train_bi, count_test_bi)\n",
    "print(\"accuracy: %0.3f\" % score)"
   ]
  },
  {
   "cell_type": "markdown",
   "id": "ec91bd0a",
   "metadata": {
    "id": "NvSucW_q7_7l",
    "papermill": {
     "duration": 0.022307,
     "end_time": "2024-08-21T13:27:02.648396",
     "exception": false,
     "start_time": "2024-08-21T13:27:02.626089",
     "status": "completed"
    },
    "tags": []
   },
   "source": [
    "### Machine Learning Model : Passive Aggressive Classifier"
   ]
  },
  {
   "cell_type": "code",
   "execution_count": 36,
   "id": "0484f93a",
   "metadata": {
    "execution": {
     "iopub.execute_input": "2024-08-21T13:27:02.693930Z",
     "iopub.status.busy": "2024-08-21T13:27:02.693502Z",
     "iopub.status.idle": "2024-08-21T13:27:51.664112Z",
     "shell.execute_reply": "2024-08-21T13:27:51.662849Z"
    },
    "id": "dsnHd_AZ7_7l",
    "papermill": {
     "duration": 49.018982,
     "end_time": "2024-08-21T13:27:51.689167",
     "exception": false,
     "start_time": "2024-08-21T13:27:02.670185",
     "status": "completed"
    },
    "tags": []
   },
   "outputs": [
    {
     "name": "stdout",
     "output_type": "stream",
     "text": [
      "accuracy: 0.996\n"
     ]
    }
   ],
   "source": [
    "model = PassiveAggressiveClassifier()\n",
    "score = Evaluate_Uncleaned(model, count_train_bi, count_test_bi)\n",
    "print(\"accuracy: %0.3f\" % score)"
   ]
  },
  {
   "cell_type": "markdown",
   "id": "220cb64f",
   "metadata": {
    "id": "d68Ihwc57_7o",
    "papermill": {
     "duration": 0.023484,
     "end_time": "2024-08-21T13:27:51.735322",
     "exception": false,
     "start_time": "2024-08-21T13:27:51.711838",
     "status": "completed"
    },
    "tags": []
   },
   "source": [
    "# TF-IDF : Uncleaned"
   ]
  },
  {
   "cell_type": "markdown",
   "id": "4b1c1d36",
   "metadata": {
    "id": "K_FdSMrd7_7o",
    "papermill": {
     "duration": 0.021686,
     "end_time": "2024-08-21T13:27:51.779009",
     "exception": false,
     "start_time": "2024-08-21T13:27:51.757323",
     "status": "completed"
    },
    "tags": []
   },
   "source": [
    "## Uni-Gram"
   ]
  },
  {
   "cell_type": "code",
   "execution_count": 37,
   "id": "52ed8289",
   "metadata": {
    "execution": {
     "iopub.execute_input": "2024-08-21T13:27:51.826199Z",
     "iopub.status.busy": "2024-08-21T13:27:51.825801Z",
     "iopub.status.idle": "2024-08-21T13:28:15.040874Z",
     "shell.execute_reply": "2024-08-21T13:28:15.039404Z"
    },
    "id": "fOBtHxI47_7o",
    "papermill": {
     "duration": 23.241875,
     "end_time": "2024-08-21T13:28:15.043879",
     "exception": false,
     "start_time": "2024-08-21T13:27:51.802004",
     "status": "completed"
    },
    "tags": []
   },
   "outputs": [],
   "source": [
    "from sklearn.feature_extraction.text import TfidfVectorizer\n",
    "\n",
    "tfidf_vectorizer = TfidfVectorizer(stop_words='english', max_df = 0.8)\n",
    "tfidf_train_uni = tfidf_vectorizer.fit_transform(X_train_Uncleaned)\n",
    "tfidf_test_uni = tfidf_vectorizer.transform(X_test_Uncleaned)"
   ]
  },
  {
   "cell_type": "markdown",
   "id": "f7e0ebda",
   "metadata": {
    "id": "y6JJIvzk7_7o",
    "papermill": {
     "duration": 0.024076,
     "end_time": "2024-08-21T13:28:15.091111",
     "exception": false,
     "start_time": "2024-08-21T13:28:15.067035",
     "status": "completed"
    },
    "tags": []
   },
   "source": [
    "### Machine Learning Model : Decision Tree"
   ]
  },
  {
   "cell_type": "code",
   "execution_count": 38,
   "id": "9031a3f5",
   "metadata": {
    "execution": {
     "iopub.execute_input": "2024-08-21T13:28:15.138724Z",
     "iopub.status.busy": "2024-08-21T13:28:15.138256Z",
     "iopub.status.idle": "2024-08-21T13:32:00.389525Z",
     "shell.execute_reply": "2024-08-21T13:32:00.388166Z"
    },
    "id": "3JAXRSYB7_7o",
    "papermill": {
     "duration": 225.299996,
     "end_time": "2024-08-21T13:32:00.414428",
     "exception": false,
     "start_time": "2024-08-21T13:28:15.114432",
     "status": "completed"
    },
    "tags": []
   },
   "outputs": [
    {
     "name": "stdout",
     "output_type": "stream",
     "text": [
      "accuracy: 0.997\n"
     ]
    }
   ],
   "source": [
    "model = DecisionTreeClassifier()\n",
    "score = Evaluate_Uncleaned(model, tfidf_train_uni, tfidf_test_uni)\n",
    "print(\"accuracy: %0.3f\" % score)"
   ]
  },
  {
   "cell_type": "markdown",
   "id": "d374b089",
   "metadata": {
    "id": "_FNxnjyM7_7p",
    "papermill": {
     "duration": 0.022285,
     "end_time": "2024-08-21T13:32:00.458790",
     "exception": false,
     "start_time": "2024-08-21T13:32:00.436505",
     "status": "completed"
    },
    "tags": []
   },
   "source": [
    "### Machine Learning Model : Naive Bayes"
   ]
  },
  {
   "cell_type": "code",
   "execution_count": 39,
   "id": "566d43b5",
   "metadata": {
    "execution": {
     "iopub.execute_input": "2024-08-21T13:32:00.506611Z",
     "iopub.status.busy": "2024-08-21T13:32:00.506162Z",
     "iopub.status.idle": "2024-08-21T13:32:02.213760Z",
     "shell.execute_reply": "2024-08-21T13:32:02.212228Z"
    },
    "id": "CxeRn3DU7_7p",
    "papermill": {
     "duration": 1.734579,
     "end_time": "2024-08-21T13:32:02.216756",
     "exception": false,
     "start_time": "2024-08-21T13:32:00.482177",
     "status": "completed"
    },
    "tags": []
   },
   "outputs": [
    {
     "name": "stdout",
     "output_type": "stream",
     "text": [
      "accuracy: 0.532\n"
     ]
    }
   ],
   "source": [
    "model = MultinomialNB()\n",
    "score = Evaluate_Uncleaned(model, tfidf_train_uni, tfidf_test_uni)\n",
    "print(\"accuracy: %0.3f\" % score)"
   ]
  },
  {
   "cell_type": "markdown",
   "id": "13a17b65",
   "metadata": {
    "id": "sMgD1Dfx7_7p",
    "papermill": {
     "duration": 0.02318,
     "end_time": "2024-08-21T13:32:02.264000",
     "exception": false,
     "start_time": "2024-08-21T13:32:02.240820",
     "status": "completed"
    },
    "tags": []
   },
   "source": [
    "### Machine Learing Model: Passive Aggressive Model"
   ]
  },
  {
   "cell_type": "code",
   "execution_count": 40,
   "id": "c2d02649",
   "metadata": {
    "execution": {
     "iopub.execute_input": "2024-08-21T13:32:02.312190Z",
     "iopub.status.busy": "2024-08-21T13:32:02.311754Z",
     "iopub.status.idle": "2024-08-21T13:32:26.363224Z",
     "shell.execute_reply": "2024-08-21T13:32:26.361759Z"
    },
    "id": "4WjM30-P7_7p",
    "papermill": {
     "duration": 24.078875,
     "end_time": "2024-08-21T13:32:26.366311",
     "exception": false,
     "start_time": "2024-08-21T13:32:02.287436",
     "status": "completed"
    },
    "tags": []
   },
   "outputs": [
    {
     "name": "stdout",
     "output_type": "stream",
     "text": [
      "accuracy: 0.972\n"
     ]
    }
   ],
   "source": [
    "model = PassiveAggressiveClassifier()\n",
    "score = Evaluate_Uncleaned(model, tfidf_train_uni, tfidf_test_uni)\n",
    "print(\"accuracy: %0.3f\" % score)"
   ]
  },
  {
   "cell_type": "markdown",
   "id": "61f00a67",
   "metadata": {
    "id": "76PHDR_77_7q",
    "papermill": {
     "duration": 0.022745,
     "end_time": "2024-08-21T13:32:26.412099",
     "exception": false,
     "start_time": "2024-08-21T13:32:26.389354",
     "status": "completed"
    },
    "tags": []
   },
   "source": [
    "## Bi-gram"
   ]
  },
  {
   "cell_type": "code",
   "execution_count": 41,
   "id": "35cc4002",
   "metadata": {
    "execution": {
     "iopub.execute_input": "2024-08-21T13:32:26.459548Z",
     "iopub.status.busy": "2024-08-21T13:32:26.459085Z",
     "iopub.status.idle": "2024-08-21T13:33:16.087116Z",
     "shell.execute_reply": "2024-08-21T13:33:16.085340Z"
    },
    "id": "pFKSyr_U7_7q",
    "papermill": {
     "duration": 49.655263,
     "end_time": "2024-08-21T13:33:16.090383",
     "exception": false,
     "start_time": "2024-08-21T13:32:26.435120",
     "status": "completed"
    },
    "tags": []
   },
   "outputs": [],
   "source": [
    "tfidf_vectorizer2 = TfidfVectorizer(stop_words='english', max_df = 0.8, ngram_range=(1,2))\n",
    "tfidf_train_bi = tfidf_vectorizer2.fit_transform(X_train_Uncleaned)\n",
    "tfidf_test_bi = tfidf_vectorizer2.transform(X_test_Uncleaned)"
   ]
  },
  {
   "cell_type": "markdown",
   "id": "54856990",
   "metadata": {
    "id": "ADcNFE1f7_7q",
    "papermill": {
     "duration": 0.022736,
     "end_time": "2024-08-21T13:33:16.137316",
     "exception": false,
     "start_time": "2024-08-21T13:33:16.114580",
     "status": "completed"
    },
    "tags": []
   },
   "source": [
    "### Machine Learning Model : Decision Tree"
   ]
  },
  {
   "cell_type": "code",
   "execution_count": 42,
   "id": "2683d27b",
   "metadata": {
    "execution": {
     "iopub.execute_input": "2024-08-21T13:33:16.185880Z",
     "iopub.status.busy": "2024-08-21T13:33:16.185441Z",
     "iopub.status.idle": "2024-08-21T14:00:30.422712Z",
     "shell.execute_reply": "2024-08-21T14:00:30.421269Z"
    },
    "id": "bnRQ5gLk7_7q",
    "papermill": {
     "duration": 1634.287794,
     "end_time": "2024-08-21T14:00:30.448600",
     "exception": false,
     "start_time": "2024-08-21T13:33:16.160806",
     "status": "completed"
    },
    "tags": []
   },
   "outputs": [
    {
     "name": "stdout",
     "output_type": "stream",
     "text": [
      "accuracy: 0.997\n"
     ]
    }
   ],
   "source": [
    "model = DecisionTreeClassifier()\n",
    "score = Evaluate_Uncleaned(model, tfidf_train_bi, tfidf_test_bi)\n",
    "print(\"accuracy: %0.3f\" % score)"
   ]
  },
  {
   "cell_type": "markdown",
   "id": "d1a57fbf",
   "metadata": {
    "id": "fmDNNxkU7_7r",
    "papermill": {
     "duration": 0.022198,
     "end_time": "2024-08-21T14:00:30.493535",
     "exception": false,
     "start_time": "2024-08-21T14:00:30.471337",
     "status": "completed"
    },
    "tags": []
   },
   "source": [
    "### Machine Learning Model : Naive Bayes"
   ]
  },
  {
   "cell_type": "code",
   "execution_count": 43,
   "id": "3bfb686a",
   "metadata": {
    "execution": {
     "iopub.execute_input": "2024-08-21T14:00:30.542784Z",
     "iopub.status.busy": "2024-08-21T14:00:30.542314Z",
     "iopub.status.idle": "2024-08-21T14:00:36.484193Z",
     "shell.execute_reply": "2024-08-21T14:00:36.482812Z"
    },
    "id": "9n2DFEr37_7r",
    "papermill": {
     "duration": 5.969897,
     "end_time": "2024-08-21T14:00:36.486946",
     "exception": false,
     "start_time": "2024-08-21T14:00:30.517049",
     "status": "completed"
    },
    "tags": []
   },
   "outputs": [
    {
     "name": "stdout",
     "output_type": "stream",
     "text": [
      "accuracy: 0.357\n"
     ]
    }
   ],
   "source": [
    "model = MultinomialNB()\n",
    "score = Evaluate_Uncleaned(model, tfidf_train_bi, tfidf_test_bi)\n",
    "print(\"accuracy: %0.3f\" % score)"
   ]
  },
  {
   "cell_type": "markdown",
   "id": "16d0dd71",
   "metadata": {
    "id": "xGdfZxVJ7_7r",
    "papermill": {
     "duration": 0.023462,
     "end_time": "2024-08-21T14:00:36.533195",
     "exception": false,
     "start_time": "2024-08-21T14:00:36.509733",
     "status": "completed"
    },
    "tags": []
   },
   "source": [
    "### Machine Learing Model: Passive Aggressive Model"
   ]
  },
  {
   "cell_type": "code",
   "execution_count": 44,
   "id": "49018a8d",
   "metadata": {
    "execution": {
     "iopub.execute_input": "2024-08-21T14:00:36.583577Z",
     "iopub.status.busy": "2024-08-21T14:00:36.582394Z",
     "iopub.status.idle": "2024-08-21T14:01:19.423488Z",
     "shell.execute_reply": "2024-08-21T14:01:19.422317Z"
    },
    "id": "3KvAmSnh7_7r",
    "papermill": {
     "duration": 42.891116,
     "end_time": "2024-08-21T14:01:19.448155",
     "exception": false,
     "start_time": "2024-08-21T14:00:36.557039",
     "status": "completed"
    },
    "tags": []
   },
   "outputs": [
    {
     "name": "stdout",
     "output_type": "stream",
     "text": [
      "accuracy: 0.997\n"
     ]
    }
   ],
   "source": [
    "model = PassiveAggressiveClassifier()\n",
    "score = Evaluate_Uncleaned(model, tfidf_train_bi, tfidf_test_bi)\n",
    "print(\"accuracy: %0.3f\" % score)"
   ]
  }
 ],
 "metadata": {
  "colab": {
   "collapsed_sections": [
    "K_FdSMrd7_7o",
    "97D-6Kb4rOcj"
   ],
   "provenance": []
  },
  "kaggle": {
   "accelerator": "none",
   "dataSources": [
    {
     "datasetId": 5561409,
     "sourceId": 9198787,
     "sourceType": "datasetVersion"
    }
   ],
   "dockerImageVersionId": 30746,
   "isGpuEnabled": false,
   "isInternetEnabled": true,
   "language": "python",
   "sourceType": "notebook"
  },
  "kernelspec": {
   "display_name": "Python 3",
   "language": "python",
   "name": "python3"
  },
  "language_info": {
   "codemirror_mode": {
    "name": "ipython",
    "version": 3
   },
   "file_extension": ".py",
   "mimetype": "text/x-python",
   "name": "python",
   "nbconvert_exporter": "python",
   "pygments_lexer": "ipython3",
   "version": "3.10.13"
  },
  "papermill": {
   "default_parameters": {},
   "duration": 4087.490116,
   "end_time": "2024-08-21T14:01:20.810956",
   "environment_variables": {},
   "exception": null,
   "input_path": "__notebook__.ipynb",
   "output_path": "__notebook__.ipynb",
   "parameters": {},
   "start_time": "2024-08-21T12:53:13.320840",
   "version": "2.5.0"
  }
 },
 "nbformat": 4,
 "nbformat_minor": 5
}
